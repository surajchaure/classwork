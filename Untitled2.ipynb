{
 "cells": [
  {
   "cell_type": "code",
   "execution_count": 18,
   "id": "00cb6a4b-47fe-433e-b813-185e33e207d1",
   "metadata": {},
   "outputs": [
    {
     "name": "stdout",
     "output_type": "stream",
     "text": [
      "name: abc\n",
      "age: 24\n",
      "add: hjdsdvdvsd\n",
      "mob: 2145789745\n"
     ]
    }
   ],
   "source": [
    "def A(name,age,add,mob):\n",
    "    print('name:',name)\n",
    "    print('age:',age)\n",
    "    print('add:',add)\n",
    "    print('mob:',mob)\n",
    "A(name='abc',age=24,add='hjdsdvdvsd',mob=2145789745)"
   ]
  },
  {
   "cell_type": "code",
   "execution_count": null,
   "id": "c9785bcc-bd92-4c5d-a488-29a1d4a166fe",
   "metadata": {},
   "outputs": [],
   "source": []
  },
  {
   "cell_type": "code",
   "execution_count": null,
   "id": "08df1560-bdf8-4f97-bd6b-10e49cde6ced",
   "metadata": {},
   "outputs": [],
   "source": []
  },
  {
   "cell_type": "code",
   "execution_count": null,
   "id": "82920da3-5411-401c-a82c-4f9614989858",
   "metadata": {},
   "outputs": [],
   "source": []
  },
  {
   "cell_type": "code",
   "execution_count": null,
   "id": "65488d05-9495-45ae-80bf-c70b2cca29a5",
   "metadata": {},
   "outputs": [],
   "source": []
  },
  {
   "cell_type": "code",
   "execution_count": null,
   "id": "cefe9473-c628-46ba-a820-0a3f92044d63",
   "metadata": {},
   "outputs": [],
   "source": []
  },
  {
   "cell_type": "code",
   "execution_count": null,
   "id": "1c7dc2cc-dbe4-4136-9d75-b523cca0fa89",
   "metadata": {},
   "outputs": [],
   "source": []
  },
  {
   "cell_type": "code",
   "execution_count": null,
   "id": "eb36a8f9-1b04-48fa-a088-e4377ba983da",
   "metadata": {},
   "outputs": [],
   "source": []
  },
  {
   "cell_type": "code",
   "execution_count": null,
   "id": "b9a1a943-7de3-4025-b8b6-a521003e8877",
   "metadata": {},
   "outputs": [],
   "source": []
  },
  {
   "cell_type": "code",
   "execution_count": null,
   "id": "4ff5cbdd-0dfc-48bb-abaf-e5b3d704d21f",
   "metadata": {},
   "outputs": [],
   "source": []
  },
  {
   "cell_type": "code",
   "execution_count": null,
   "id": "f80bd8da-cfbc-4c63-88f3-ec1a2c1cdadf",
   "metadata": {},
   "outputs": [],
   "source": []
  },
  {
   "cell_type": "code",
   "execution_count": null,
   "id": "8ba4318e-2e64-41b1-a6c7-1c20d0ba7258",
   "metadata": {},
   "outputs": [],
   "source": []
  },
  {
   "cell_type": "code",
   "execution_count": null,
   "id": "a67a04e0-33f6-4249-8cc5-74832d05ff7c",
   "metadata": {},
   "outputs": [],
   "source": []
  },
  {
   "cell_type": "code",
   "execution_count": null,
   "id": "4dabfc14-14e0-4bc8-b07a-1c83338f007c",
   "metadata": {},
   "outputs": [],
   "source": []
  },
  {
   "cell_type": "code",
   "execution_count": null,
   "id": "b7330e27-48e0-42fb-b527-71e6cfc423b6",
   "metadata": {},
   "outputs": [],
   "source": []
  },
  {
   "cell_type": "code",
   "execution_count": null,
   "id": "0b4719ec-1591-416e-bfbf-fc95db3e9896",
   "metadata": {},
   "outputs": [],
   "source": []
  }
 ],
 "metadata": {
  "kernelspec": {
   "display_name": "Python 3 (ipykernel)",
   "language": "python",
   "name": "python3"
  },
  "language_info": {
   "codemirror_mode": {
    "name": "ipython",
    "version": 3
   },
   "file_extension": ".py",
   "mimetype": "text/x-python",
   "name": "python",
   "nbconvert_exporter": "python",
   "pygments_lexer": "ipython3",
   "version": "3.11.7"
  }
 },
 "nbformat": 4,
 "nbformat_minor": 5
}
